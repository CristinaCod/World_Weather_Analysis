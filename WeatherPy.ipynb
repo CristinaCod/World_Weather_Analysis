{
 "cells": [
  {
   "cell_type": "code",
   "execution_count": 1,
   "id": "3cdc0c28",
   "metadata": {},
   "outputs": [],
   "source": [
    "# Import the dependencies.\n",
    "import pandas as pd\n",
    "import matplotlib.pyplot as plt\n",
    "import numpy as np"
   ]
  },
  {
   "cell_type": "code",
   "execution_count": 2,
   "id": "0c341031",
   "metadata": {},
   "outputs": [
    {
     "data": {
      "text/plain": [
       "<zip at 0x7fef7683a400>"
      ]
     },
     "execution_count": 2,
     "metadata": {},
     "output_type": "execute_result"
    }
   ],
   "source": [
    "# Create a set of random latitude and longitude combinations.\n",
    "lats = np.random.uniform(low=-90.000, high=90.000, size=1500)\n",
    "lngs = np.random.uniform(low=-180.000, high=180.000, size=1500)\n",
    "lat_lngs = zip(lats, lngs)\n",
    "lat_lngs"
   ]
  },
  {
   "cell_type": "code",
   "execution_count": 3,
   "id": "ffc899c8",
   "metadata": {},
   "outputs": [],
   "source": [
    "# Add the latitudes and longitudes to a list.\n",
    "coordinates = list(lat_lngs)"
   ]
  },
  {
   "cell_type": "code",
   "execution_count": 4,
   "id": "dd7452ea",
   "metadata": {},
   "outputs": [],
   "source": [
    "res=list(zip(*lat_lngs))"
   ]
  },
  {
   "cell_type": "code",
   "execution_count": 5,
   "id": "01ba622a",
   "metadata": {},
   "outputs": [
    {
     "name": "stdout",
     "output_type": "stream",
     "text": [
      "Modified list is : []\n"
     ]
    }
   ],
   "source": [
    "print (\"Modified list is : \" + str(res))"
   ]
  },
  {
   "cell_type": "code",
   "execution_count": 6,
   "id": "77cc6f96",
   "metadata": {},
   "outputs": [
    {
     "name": "stdout",
     "output_type": "stream",
     "text": [
      "Requirement already satisfied: citipy in /Users/cristinacodispoti/opt/anaconda3/lib/python3.9/site-packages (0.0.5)\n",
      "Requirement already satisfied: kdtree>=0.12 in /Users/cristinacodispoti/opt/anaconda3/lib/python3.9/site-packages (from citipy) (0.16)\n",
      "Note: you may need to restart the kernel to use updated packages.\n"
     ]
    }
   ],
   "source": [
    "pip install citipy"
   ]
  },
  {
   "cell_type": "code",
   "execution_count": 7,
   "id": "46beb533",
   "metadata": {},
   "outputs": [],
   "source": [
    "from citipy import citipy"
   ]
  },
  {
   "cell_type": "code",
   "execution_count": 8,
   "id": "874a0a83",
   "metadata": {},
   "outputs": [
    {
     "data": {
      "text/plain": [
       "626"
      ]
     },
     "execution_count": 8,
     "metadata": {},
     "output_type": "execute_result"
    }
   ],
   "source": [
    "# Create a list for holding the cities.\n",
    "cities = []\n",
    "# Identify the nearest city for each latitude and longitude combination.\n",
    "for coordinate in coordinates:\n",
    "    city = citipy.nearest_city(coordinate[0], coordinate[1]).city_name\n",
    "\n",
    "    # If the city is unique, then we will add it to the cities list.\n",
    "    if city not in cities:\n",
    "        cities.append(city)\n",
    "# Print the city count to confirm sufficient count.\n",
    "len(cities)"
   ]
  },
  {
   "cell_type": "code",
   "execution_count": 9,
   "id": "46e88436",
   "metadata": {},
   "outputs": [],
   "source": [
    "# Import the requests library.\n",
    "import requests\n",
    "\n",
    "# Import the API key.\n",
    "from config import weather_api_key"
   ]
  },
  {
   "cell_type": "code",
   "execution_count": 10,
   "id": "b2cbad5d",
   "metadata": {
    "scrolled": true
   },
   "outputs": [
    {
     "name": "stdout",
     "output_type": "stream",
     "text": [
      "http://api.openweathermap.org/data/2.5/weather?units=Imperial&APPID=8eda0f82b697d090d47d4b19ac1e59ef\n"
     ]
    }
   ],
   "source": [
    "# Starting URL for Weather Map API Call.\n",
    "url = \"http://api.openweathermap.org/data/2.5/weather?units=Imperial&APPID=\" + weather_api_key\n",
    "print(url)"
   ]
  },
  {
   "cell_type": "code",
   "execution_count": 11,
   "id": "d82a35ce",
   "metadata": {},
   "outputs": [],
   "source": [
    "# Import the time library and the datetime module from the datetime library \n",
    "import time\n",
    "from datetime import datetime"
   ]
  },
  {
   "cell_type": "code",
   "execution_count": 12,
   "id": "11e0755b",
   "metadata": {},
   "outputs": [
    {
     "name": "stdout",
     "output_type": "stream",
     "text": [
      "Beginning Data Retrieval     \n",
      "-----------------------------\n",
      "Processing Record 1 of Set 1 | cabedelo\n",
      "Processing Record 2 of Set 1 | port elizabeth\n",
      "Processing Record 3 of Set 1 | poya\n",
      "Processing Record 4 of Set 1 | atuona\n",
      "Processing Record 5 of Set 1 | turukhansk\n",
      "Processing Record 6 of Set 1 | stornoway\n",
      "Processing Record 7 of Set 1 | jamestown\n",
      "Processing Record 8 of Set 1 | kahului\n",
      "Processing Record 9 of Set 1 | hamilton\n",
      "Processing Record 10 of Set 1 | bredasdorp\n",
      "Processing Record 11 of Set 1 | mataura\n",
      "Processing Record 12 of Set 1 | mitu\n",
      "Processing Record 13 of Set 1 | santa marta\n",
      "Processing Record 14 of Set 1 | saint-philippe\n",
      "Processing Record 15 of Set 1 | kodiak\n",
      "Processing Record 16 of Set 1 | cherskiy\n",
      "Processing Record 17 of Set 1 | aklavik\n",
      "Processing Record 18 of Set 1 | tasiilaq\n",
      "Processing Record 19 of Set 1 | palabuhanratu\n",
      "City not found. Skipping...\n",
      "Processing Record 20 of Set 1 | aizkraukle\n",
      "Processing Record 21 of Set 1 | makakilo city\n",
      "Processing Record 22 of Set 1 | eyl\n",
      "Processing Record 23 of Set 1 | east london\n",
      "Processing Record 24 of Set 1 | castelo do piaui\n",
      "Processing Record 25 of Set 1 | barrow\n",
      "Processing Record 26 of Set 1 | luena\n",
      "Processing Record 27 of Set 1 | rikitea\n",
      "Processing Record 28 of Set 1 | jiddah\n",
      "City not found. Skipping...\n",
      "Processing Record 29 of Set 1 | qaanaaq\n",
      "Processing Record 30 of Set 1 | taolanaro\n",
      "City not found. Skipping...\n",
      "Processing Record 31 of Set 1 | samfya\n",
      "Processing Record 32 of Set 1 | hithadhoo\n",
      "Processing Record 33 of Set 1 | maridi\n",
      "Processing Record 34 of Set 1 | avarua\n",
      "Processing Record 35 of Set 1 | khatanga\n",
      "Processing Record 36 of Set 1 | kurilsk\n",
      "Processing Record 37 of Set 1 | punta arenas\n",
      "Processing Record 38 of Set 1 | havre-saint-pierre\n",
      "Processing Record 39 of Set 1 | carnarvon\n",
      "Processing Record 40 of Set 1 | adrar\n",
      "Processing Record 41 of Set 1 | vestmannaeyjar\n",
      "Processing Record 42 of Set 1 | kangaatsiaq\n",
      "Processing Record 43 of Set 1 | barra velha\n",
      "Processing Record 44 of Set 1 | hobart\n",
      "Processing Record 45 of Set 1 | ushuaia\n",
      "Processing Record 46 of Set 1 | albany\n",
      "Processing Record 47 of Set 1 | fortuna\n",
      "Processing Record 48 of Set 1 | ponta do sol\n",
      "Processing Record 49 of Set 1 | busselton\n",
      "Processing Record 50 of Set 1 | nguiu\n",
      "City not found. Skipping...\n",
      "Processing Record 1 of Set 2 | codrington\n",
      "Processing Record 2 of Set 2 | erenhot\n",
      "Processing Record 3 of Set 2 | nelson bay\n",
      "Processing Record 4 of Set 2 | tuggurt\n",
      "City not found. Skipping...\n",
      "Processing Record 5 of Set 2 | mar del plata\n",
      "Processing Record 6 of Set 2 | astana\n",
      "Processing Record 7 of Set 2 | nizhneyansk\n",
      "City not found. Skipping...\n",
      "Processing Record 8 of Set 2 | tautira\n",
      "Processing Record 9 of Set 2 | teguise\n",
      "Processing Record 10 of Set 2 | cape town\n",
      "Processing Record 11 of Set 2 | santa fe\n",
      "Processing Record 12 of Set 2 | yenagoa\n",
      "Processing Record 13 of Set 2 | andenes\n",
      "Processing Record 14 of Set 2 | bluff\n",
      "Processing Record 15 of Set 2 | illoqqortoormiut\n",
      "City not found. Skipping...\n",
      "Processing Record 16 of Set 2 | bonthe\n",
      "Processing Record 17 of Set 2 | iranshahr\n",
      "Processing Record 18 of Set 2 | bethel\n",
      "Processing Record 19 of Set 2 | pangnirtung\n",
      "Processing Record 20 of Set 2 | cairns\n",
      "Processing Record 21 of Set 2 | port alfred\n",
      "Processing Record 22 of Set 2 | vaini\n",
      "Processing Record 23 of Set 2 | lebu\n",
      "Processing Record 24 of Set 2 | marawi\n",
      "Processing Record 25 of Set 2 | lethem\n",
      "Processing Record 26 of Set 2 | mazara del vallo\n",
      "Processing Record 27 of Set 2 | hasaki\n",
      "Processing Record 28 of Set 2 | pulandian\n",
      "Processing Record 29 of Set 2 | tomatlan\n",
      "Processing Record 30 of Set 2 | kokopo\n",
      "Processing Record 31 of Set 2 | tsihombe\n",
      "City not found. Skipping...\n",
      "Processing Record 32 of Set 2 | kearney\n",
      "Processing Record 33 of Set 2 | kapaa\n",
      "Processing Record 34 of Set 2 | kanie\n",
      "Processing Record 35 of Set 2 | vangaindrano\n",
      "Processing Record 36 of Set 2 | tuktoyaktuk\n",
      "Processing Record 37 of Set 2 | pafos\n",
      "Processing Record 38 of Set 2 | araouane\n",
      "Processing Record 39 of Set 2 | plettenberg bay\n",
      "Processing Record 40 of Set 2 | sfantu gheorghe\n",
      "Processing Record 41 of Set 2 | maniitsoq\n",
      "Processing Record 42 of Set 2 | nordlingen\n",
      "City not found. Skipping...\n",
      "Processing Record 43 of Set 2 | klaksvik\n",
      "Processing Record 44 of Set 2 | lagoa\n",
      "Processing Record 45 of Set 2 | sladkovo\n",
      "Processing Record 46 of Set 2 | nikolskoye\n",
      "Processing Record 47 of Set 2 | bengkulu\n",
      "Processing Record 48 of Set 2 | jieshou\n",
      "Processing Record 49 of Set 2 | vila\n",
      "Processing Record 50 of Set 2 | northam\n",
      "Processing Record 1 of Set 3 | einbeck\n",
      "Processing Record 2 of Set 3 | baoding\n",
      "Processing Record 3 of Set 3 | bandarbeyla\n",
      "Processing Record 4 of Set 3 | amderma\n",
      "City not found. Skipping...\n",
      "Processing Record 5 of Set 3 | barranca\n",
      "Processing Record 6 of Set 3 | hilo\n",
      "Processing Record 7 of Set 3 | souillac\n",
      "Processing Record 8 of Set 3 | comodoro rivadavia\n",
      "Processing Record 9 of Set 3 | yellowknife\n",
      "Processing Record 10 of Set 3 | san andres\n",
      "Processing Record 11 of Set 3 | mackay\n",
      "Processing Record 12 of Set 3 | khormuj\n",
      "City not found. Skipping...\n",
      "Processing Record 13 of Set 3 | marcona\n",
      "City not found. Skipping...\n",
      "Processing Record 14 of Set 3 | grindavik\n",
      "Processing Record 15 of Set 3 | hunza\n",
      "City not found. Skipping...\n",
      "Processing Record 16 of Set 3 | ahualulco\n",
      "Processing Record 17 of Set 3 | laguna\n",
      "Processing Record 18 of Set 3 | kargasok\n",
      "Processing Record 19 of Set 3 | bambous virieux\n",
      "Processing Record 20 of Set 3 | nome\n",
      "Processing Record 21 of Set 3 | morehead\n",
      "Processing Record 22 of Set 3 | sapele\n",
      "Processing Record 23 of Set 3 | elko\n",
      "Processing Record 24 of Set 3 | sataua\n",
      "City not found. Skipping...\n",
      "Processing Record 25 of Set 3 | indiana\n",
      "Processing Record 26 of Set 3 | sao filipe\n",
      "Processing Record 27 of Set 3 | new norfolk\n",
      "Processing Record 28 of Set 3 | narsaq\n",
      "Processing Record 29 of Set 3 | muhos\n",
      "Processing Record 30 of Set 3 | delta del tigre\n",
      "Processing Record 31 of Set 3 | dikson\n",
      "Processing Record 32 of Set 3 | kaitangata\n",
      "Processing Record 33 of Set 3 | mount gambier\n",
      "Processing Record 34 of Set 3 | saint-joseph\n",
      "Processing Record 35 of Set 3 | nandi hills\n",
      "Processing Record 36 of Set 3 | amiens\n",
      "Processing Record 37 of Set 3 | nyurba\n",
      "Processing Record 38 of Set 3 | sistranda\n",
      "Processing Record 39 of Set 3 | gizo\n",
      "Processing Record 40 of Set 3 | ngukurr\n",
      "City not found. Skipping...\n",
      "Processing Record 41 of Set 3 | arraial do cabo\n",
      "Processing Record 42 of Set 3 | salalah\n",
      "Processing Record 43 of Set 3 | daru\n",
      "Processing Record 44 of Set 3 | tessalit\n",
      "Processing Record 45 of Set 3 | esperance\n",
      "Processing Record 46 of Set 3 | mnogovershinnyy\n",
      "Processing Record 47 of Set 3 | palana\n",
      "Processing Record 48 of Set 3 | saleaula\n",
      "City not found. Skipping...\n",
      "Processing Record 49 of Set 3 | hermanus\n",
      "Processing Record 50 of Set 3 | karakol\n"
     ]
    },
    {
     "ename": "KeyboardInterrupt",
     "evalue": "",
     "output_type": "error",
     "traceback": [
      "\u001b[0;31m---------------------------------------------------------------------------\u001b[0m",
      "\u001b[0;31mKeyboardInterrupt\u001b[0m                         Traceback (most recent call last)",
      "\u001b[0;32m/var/folders/5w/4lzbwvt930q64pvcfb40qdvh0000gn/T/ipykernel_2180/2196461050.py\u001b[0m in \u001b[0;36m<module>\u001b[0;34m\u001b[0m\n\u001b[1;32m     17\u001b[0m         \u001b[0mset_count\u001b[0m \u001b[0;34m+=\u001b[0m \u001b[0;36m1\u001b[0m\u001b[0;34m\u001b[0m\u001b[0;34m\u001b[0m\u001b[0m\n\u001b[1;32m     18\u001b[0m         \u001b[0mrecord_count\u001b[0m \u001b[0;34m=\u001b[0m \u001b[0;36m1\u001b[0m\u001b[0;34m\u001b[0m\u001b[0;34m\u001b[0m\u001b[0m\n\u001b[0;32m---> 19\u001b[0;31m         \u001b[0mtime\u001b[0m\u001b[0;34m.\u001b[0m\u001b[0msleep\u001b[0m\u001b[0;34m(\u001b[0m\u001b[0;36m60\u001b[0m\u001b[0;34m)\u001b[0m\u001b[0;34m\u001b[0m\u001b[0;34m\u001b[0m\u001b[0m\n\u001b[0m\u001b[1;32m     20\u001b[0m \u001b[0;34m\u001b[0m\u001b[0m\n\u001b[1;32m     21\u001b[0m     \u001b[0;31m# Create endpoint URL with each city.\u001b[0m\u001b[0;34m\u001b[0m\u001b[0;34m\u001b[0m\u001b[0m\n",
      "\u001b[0;31mKeyboardInterrupt\u001b[0m: "
     ]
    }
   ],
   "source": [
    "# Create an empty list to hold the weather data.\n",
    "city_data = []\n",
    "# Print the beginning of the logging.\n",
    "print(\"Beginning Data Retrieval     \")\n",
    "print(\"-----------------------------\")\n",
    "\n",
    "# Create counters.\n",
    "record_count = 1\n",
    "set_count = 1\n",
    "\n",
    "\n",
    "# Loop through all the cities in the list.\n",
    "for i, city in enumerate(cities):\n",
    "\n",
    "    # Group cities in sets of 50 for logging purposes.\n",
    "    if (i % 50 == 0 and i >= 50):\n",
    "        set_count += 1\n",
    "        record_count = 1\n",
    "        time.sleep(60)\n",
    "\n",
    "    # Create endpoint URL with each city.\n",
    "    city_url = url + \"&q=\" + city.replace(\" \",\"+\")\n",
    "\n",
    "    # Log the URL, record, and set numbers and the city.\n",
    "    print(f\"Processing Record {record_count} of Set {set_count} | {city}\")\n",
    "    # Add 1 to the record count.\n",
    "    record_count += 1\n",
    "    \n",
    "    # Run an API request for each of the cities.\n",
    "    try:\n",
    "        # Parse the JSON and retrieve data.\n",
    "        city_weather = requests.get(city_url).json()\n",
    "        # Parse out the needed data.\n",
    "        city_lat = city_weather[\"coord\"][\"lat\"]\n",
    "        city_lng = city_weather[\"coord\"][\"lon\"]\n",
    "        city_max_temp = city_weather[\"main\"][\"temp_max\"]\n",
    "        city_humidity = city_weather[\"main\"][\"humidity\"]\n",
    "        city_clouds = city_weather[\"clouds\"][\"all\"]\n",
    "        city_wind = city_weather[\"wind\"][\"speed\"]\n",
    "        city_country = city_weather[\"sys\"][\"country\"]\n",
    "        # Convert the date to ISO standard.\n",
    "        city_date = datetime.utcfromtimestamp(city_weather[\"dt\"]).strftime('%Y-%m-%d %H:%M:%S')\n",
    "        # Append the city information into city_data list.\n",
    "        city_data.append({\"City\": city.title(),\n",
    "                          \"Lat\": city_lat,\n",
    "                          \"Lng\": city_lng,\n",
    "                          \"Max Temp\": city_max_temp,\n",
    "                          \"Humidity\": city_humidity,\n",
    "                          \"Cloudiness\": city_clouds,\n",
    "                          \"Wind Speed\": city_wind,\n",
    "                          \"Country\": city_country,\n",
    "                          \"Date\": city_date})\n",
    "\n",
    "# If an error is experienced, skip the city.\n",
    "    except:\n",
    "        print(\"City not found. Skipping...\")\n",
    "        pass\n",
    "\n",
    "# Indicate that Data Loading is complete.\n",
    "print(\"-----------------------------\")\n",
    "print(\"Data Retrieval Complete      \")\n",
    "print(\"-----------------------------\")"
   ]
  },
  {
   "cell_type": "code",
   "execution_count": 17,
   "id": "61862d48",
   "metadata": {},
   "outputs": [
    {
     "data": {
      "text/plain": [
       "134"
      ]
     },
     "execution_count": 17,
     "metadata": {},
     "output_type": "execute_result"
    }
   ],
   "source": [
    "len(city_data)"
   ]
  },
  {
   "cell_type": "code",
   "execution_count": 18,
   "id": "6ac1e0cd",
   "metadata": {},
   "outputs": [
    {
     "data": {
      "text/html": [
       "<div>\n",
       "<style scoped>\n",
       "    .dataframe tbody tr th:only-of-type {\n",
       "        vertical-align: middle;\n",
       "    }\n",
       "\n",
       "    .dataframe tbody tr th {\n",
       "        vertical-align: top;\n",
       "    }\n",
       "\n",
       "    .dataframe thead th {\n",
       "        text-align: right;\n",
       "    }\n",
       "</style>\n",
       "<table border=\"1\" class=\"dataframe\">\n",
       "  <thead>\n",
       "    <tr style=\"text-align: right;\">\n",
       "      <th></th>\n",
       "      <th>City</th>\n",
       "      <th>Lat</th>\n",
       "      <th>Lng</th>\n",
       "      <th>Max Temp</th>\n",
       "      <th>Humidity</th>\n",
       "      <th>Cloudiness</th>\n",
       "      <th>Wind Speed</th>\n",
       "      <th>Country</th>\n",
       "      <th>Date</th>\n",
       "    </tr>\n",
       "  </thead>\n",
       "  <tbody>\n",
       "    <tr>\n",
       "      <th>0</th>\n",
       "      <td>Cabedelo</td>\n",
       "      <td>-6.9811</td>\n",
       "      <td>-34.8339</td>\n",
       "      <td>81.27</td>\n",
       "      <td>75</td>\n",
       "      <td>10</td>\n",
       "      <td>11.70</td>\n",
       "      <td>BR</td>\n",
       "      <td>2022-01-20 21:51:16</td>\n",
       "    </tr>\n",
       "    <tr>\n",
       "      <th>1</th>\n",
       "      <td>Port Elizabeth</td>\n",
       "      <td>-33.9180</td>\n",
       "      <td>25.5701</td>\n",
       "      <td>71.10</td>\n",
       "      <td>88</td>\n",
       "      <td>0</td>\n",
       "      <td>23.02</td>\n",
       "      <td>ZA</td>\n",
       "      <td>2022-01-20 21:51:17</td>\n",
       "    </tr>\n",
       "    <tr>\n",
       "      <th>2</th>\n",
       "      <td>Poya</td>\n",
       "      <td>-21.3500</td>\n",
       "      <td>165.1500</td>\n",
       "      <td>82.51</td>\n",
       "      <td>75</td>\n",
       "      <td>90</td>\n",
       "      <td>5.97</td>\n",
       "      <td>NC</td>\n",
       "      <td>2022-01-20 21:51:17</td>\n",
       "    </tr>\n",
       "    <tr>\n",
       "      <th>3</th>\n",
       "      <td>Atuona</td>\n",
       "      <td>-9.8000</td>\n",
       "      <td>-139.0333</td>\n",
       "      <td>78.80</td>\n",
       "      <td>76</td>\n",
       "      <td>45</td>\n",
       "      <td>23.47</td>\n",
       "      <td>PF</td>\n",
       "      <td>2022-01-20 21:51:19</td>\n",
       "    </tr>\n",
       "    <tr>\n",
       "      <th>4</th>\n",
       "      <td>Turukhansk</td>\n",
       "      <td>65.8167</td>\n",
       "      <td>87.9833</td>\n",
       "      <td>5.76</td>\n",
       "      <td>95</td>\n",
       "      <td>100</td>\n",
       "      <td>15.59</td>\n",
       "      <td>RU</td>\n",
       "      <td>2022-01-20 21:51:22</td>\n",
       "    </tr>\n",
       "    <tr>\n",
       "      <th>5</th>\n",
       "      <td>Stornoway</td>\n",
       "      <td>58.2093</td>\n",
       "      <td>-6.3865</td>\n",
       "      <td>40.96</td>\n",
       "      <td>92</td>\n",
       "      <td>75</td>\n",
       "      <td>1.99</td>\n",
       "      <td>GB</td>\n",
       "      <td>2022-01-20 21:51:22</td>\n",
       "    </tr>\n",
       "    <tr>\n",
       "      <th>6</th>\n",
       "      <td>Jamestown</td>\n",
       "      <td>42.0970</td>\n",
       "      <td>-79.2353</td>\n",
       "      <td>16.09</td>\n",
       "      <td>44</td>\n",
       "      <td>100</td>\n",
       "      <td>13.80</td>\n",
       "      <td>US</td>\n",
       "      <td>2022-01-20 21:46:35</td>\n",
       "    </tr>\n",
       "    <tr>\n",
       "      <th>7</th>\n",
       "      <td>Kahului</td>\n",
       "      <td>20.8947</td>\n",
       "      <td>-156.4700</td>\n",
       "      <td>80.62</td>\n",
       "      <td>72</td>\n",
       "      <td>40</td>\n",
       "      <td>6.91</td>\n",
       "      <td>US</td>\n",
       "      <td>2022-01-20 21:51:23</td>\n",
       "    </tr>\n",
       "    <tr>\n",
       "      <th>8</th>\n",
       "      <td>Hamilton</td>\n",
       "      <td>39.1834</td>\n",
       "      <td>-84.5333</td>\n",
       "      <td>27.45</td>\n",
       "      <td>52</td>\n",
       "      <td>40</td>\n",
       "      <td>1.01</td>\n",
       "      <td>US</td>\n",
       "      <td>2022-01-20 21:51:24</td>\n",
       "    </tr>\n",
       "    <tr>\n",
       "      <th>9</th>\n",
       "      <td>Bredasdorp</td>\n",
       "      <td>-34.5322</td>\n",
       "      <td>20.0403</td>\n",
       "      <td>60.12</td>\n",
       "      <td>82</td>\n",
       "      <td>0</td>\n",
       "      <td>3.44</td>\n",
       "      <td>ZA</td>\n",
       "      <td>2022-01-20 21:51:25</td>\n",
       "    </tr>\n",
       "  </tbody>\n",
       "</table>\n",
       "</div>"
      ],
      "text/plain": [
       "             City      Lat       Lng  Max Temp  Humidity  Cloudiness  \\\n",
       "0        Cabedelo  -6.9811  -34.8339     81.27        75          10   \n",
       "1  Port Elizabeth -33.9180   25.5701     71.10        88           0   \n",
       "2            Poya -21.3500  165.1500     82.51        75          90   \n",
       "3          Atuona  -9.8000 -139.0333     78.80        76          45   \n",
       "4      Turukhansk  65.8167   87.9833      5.76        95         100   \n",
       "5       Stornoway  58.2093   -6.3865     40.96        92          75   \n",
       "6       Jamestown  42.0970  -79.2353     16.09        44         100   \n",
       "7         Kahului  20.8947 -156.4700     80.62        72          40   \n",
       "8        Hamilton  39.1834  -84.5333     27.45        52          40   \n",
       "9      Bredasdorp -34.5322   20.0403     60.12        82           0   \n",
       "\n",
       "   Wind Speed Country                 Date  \n",
       "0       11.70      BR  2022-01-20 21:51:16  \n",
       "1       23.02      ZA  2022-01-20 21:51:17  \n",
       "2        5.97      NC  2022-01-20 21:51:17  \n",
       "3       23.47      PF  2022-01-20 21:51:19  \n",
       "4       15.59      RU  2022-01-20 21:51:22  \n",
       "5        1.99      GB  2022-01-20 21:51:22  \n",
       "6       13.80      US  2022-01-20 21:46:35  \n",
       "7        6.91      US  2022-01-20 21:51:23  \n",
       "8        1.01      US  2022-01-20 21:51:24  \n",
       "9        3.44      ZA  2022-01-20 21:51:25  "
      ]
     },
     "execution_count": 18,
     "metadata": {},
     "output_type": "execute_result"
    }
   ],
   "source": [
    "# Convert the array of dictionaries to a Pandas DataFrame.\n",
    "city_data_df = pd.DataFrame(city_data)\n",
    "city_data_df.head(10)"
   ]
  },
  {
   "cell_type": "code",
   "execution_count": 19,
   "id": "6f5999ec",
   "metadata": {},
   "outputs": [],
   "source": [
    "new_column_order = ['City', 'Country', 'Date', 'Lat', 'Lng', 'Max Temp', 'Humidity', 'Cloudiness', 'Wind Speed']"
   ]
  },
  {
   "cell_type": "code",
   "execution_count": 21,
   "id": "4fafc147",
   "metadata": {},
   "outputs": [
    {
     "data": {
      "text/html": [
       "<div>\n",
       "<style scoped>\n",
       "    .dataframe tbody tr th:only-of-type {\n",
       "        vertical-align: middle;\n",
       "    }\n",
       "\n",
       "    .dataframe tbody tr th {\n",
       "        vertical-align: top;\n",
       "    }\n",
       "\n",
       "    .dataframe thead th {\n",
       "        text-align: right;\n",
       "    }\n",
       "</style>\n",
       "<table border=\"1\" class=\"dataframe\">\n",
       "  <thead>\n",
       "    <tr style=\"text-align: right;\">\n",
       "      <th></th>\n",
       "      <th>City</th>\n",
       "      <th>Country</th>\n",
       "      <th>Date</th>\n",
       "      <th>Lat</th>\n",
       "      <th>Lng</th>\n",
       "      <th>Max Temp</th>\n",
       "      <th>Humidity</th>\n",
       "      <th>Cloudiness</th>\n",
       "      <th>Wind Speed</th>\n",
       "    </tr>\n",
       "  </thead>\n",
       "  <tbody>\n",
       "    <tr>\n",
       "      <th>0</th>\n",
       "      <td>Cabedelo</td>\n",
       "      <td>BR</td>\n",
       "      <td>2022-01-20 21:51:16</td>\n",
       "      <td>-6.9811</td>\n",
       "      <td>-34.8339</td>\n",
       "      <td>81.27</td>\n",
       "      <td>75</td>\n",
       "      <td>10</td>\n",
       "      <td>11.70</td>\n",
       "    </tr>\n",
       "    <tr>\n",
       "      <th>1</th>\n",
       "      <td>Port Elizabeth</td>\n",
       "      <td>ZA</td>\n",
       "      <td>2022-01-20 21:51:17</td>\n",
       "      <td>-33.9180</td>\n",
       "      <td>25.5701</td>\n",
       "      <td>71.10</td>\n",
       "      <td>88</td>\n",
       "      <td>0</td>\n",
       "      <td>23.02</td>\n",
       "    </tr>\n",
       "    <tr>\n",
       "      <th>2</th>\n",
       "      <td>Poya</td>\n",
       "      <td>NC</td>\n",
       "      <td>2022-01-20 21:51:17</td>\n",
       "      <td>-21.3500</td>\n",
       "      <td>165.1500</td>\n",
       "      <td>82.51</td>\n",
       "      <td>75</td>\n",
       "      <td>90</td>\n",
       "      <td>5.97</td>\n",
       "    </tr>\n",
       "    <tr>\n",
       "      <th>3</th>\n",
       "      <td>Atuona</td>\n",
       "      <td>PF</td>\n",
       "      <td>2022-01-20 21:51:19</td>\n",
       "      <td>-9.8000</td>\n",
       "      <td>-139.0333</td>\n",
       "      <td>78.80</td>\n",
       "      <td>76</td>\n",
       "      <td>45</td>\n",
       "      <td>23.47</td>\n",
       "    </tr>\n",
       "    <tr>\n",
       "      <th>4</th>\n",
       "      <td>Turukhansk</td>\n",
       "      <td>RU</td>\n",
       "      <td>2022-01-20 21:51:22</td>\n",
       "      <td>65.8167</td>\n",
       "      <td>87.9833</td>\n",
       "      <td>5.76</td>\n",
       "      <td>95</td>\n",
       "      <td>100</td>\n",
       "      <td>15.59</td>\n",
       "    </tr>\n",
       "    <tr>\n",
       "      <th>5</th>\n",
       "      <td>Stornoway</td>\n",
       "      <td>GB</td>\n",
       "      <td>2022-01-20 21:51:22</td>\n",
       "      <td>58.2093</td>\n",
       "      <td>-6.3865</td>\n",
       "      <td>40.96</td>\n",
       "      <td>92</td>\n",
       "      <td>75</td>\n",
       "      <td>1.99</td>\n",
       "    </tr>\n",
       "    <tr>\n",
       "      <th>6</th>\n",
       "      <td>Jamestown</td>\n",
       "      <td>US</td>\n",
       "      <td>2022-01-20 21:46:35</td>\n",
       "      <td>42.0970</td>\n",
       "      <td>-79.2353</td>\n",
       "      <td>16.09</td>\n",
       "      <td>44</td>\n",
       "      <td>100</td>\n",
       "      <td>13.80</td>\n",
       "    </tr>\n",
       "    <tr>\n",
       "      <th>7</th>\n",
       "      <td>Kahului</td>\n",
       "      <td>US</td>\n",
       "      <td>2022-01-20 21:51:23</td>\n",
       "      <td>20.8947</td>\n",
       "      <td>-156.4700</td>\n",
       "      <td>80.62</td>\n",
       "      <td>72</td>\n",
       "      <td>40</td>\n",
       "      <td>6.91</td>\n",
       "    </tr>\n",
       "    <tr>\n",
       "      <th>8</th>\n",
       "      <td>Hamilton</td>\n",
       "      <td>US</td>\n",
       "      <td>2022-01-20 21:51:24</td>\n",
       "      <td>39.1834</td>\n",
       "      <td>-84.5333</td>\n",
       "      <td>27.45</td>\n",
       "      <td>52</td>\n",
       "      <td>40</td>\n",
       "      <td>1.01</td>\n",
       "    </tr>\n",
       "    <tr>\n",
       "      <th>9</th>\n",
       "      <td>Bredasdorp</td>\n",
       "      <td>ZA</td>\n",
       "      <td>2022-01-20 21:51:25</td>\n",
       "      <td>-34.5322</td>\n",
       "      <td>20.0403</td>\n",
       "      <td>60.12</td>\n",
       "      <td>82</td>\n",
       "      <td>0</td>\n",
       "      <td>3.44</td>\n",
       "    </tr>\n",
       "  </tbody>\n",
       "</table>\n",
       "</div>"
      ],
      "text/plain": [
       "             City Country                 Date      Lat       Lng  Max Temp  \\\n",
       "0        Cabedelo      BR  2022-01-20 21:51:16  -6.9811  -34.8339     81.27   \n",
       "1  Port Elizabeth      ZA  2022-01-20 21:51:17 -33.9180   25.5701     71.10   \n",
       "2            Poya      NC  2022-01-20 21:51:17 -21.3500  165.1500     82.51   \n",
       "3          Atuona      PF  2022-01-20 21:51:19  -9.8000 -139.0333     78.80   \n",
       "4      Turukhansk      RU  2022-01-20 21:51:22  65.8167   87.9833      5.76   \n",
       "5       Stornoway      GB  2022-01-20 21:51:22  58.2093   -6.3865     40.96   \n",
       "6       Jamestown      US  2022-01-20 21:46:35  42.0970  -79.2353     16.09   \n",
       "7         Kahului      US  2022-01-20 21:51:23  20.8947 -156.4700     80.62   \n",
       "8        Hamilton      US  2022-01-20 21:51:24  39.1834  -84.5333     27.45   \n",
       "9      Bredasdorp      ZA  2022-01-20 21:51:25 -34.5322   20.0403     60.12   \n",
       "\n",
       "   Humidity  Cloudiness  Wind Speed  \n",
       "0        75          10       11.70  \n",
       "1        88           0       23.02  \n",
       "2        75          90        5.97  \n",
       "3        76          45       23.47  \n",
       "4        95         100       15.59  \n",
       "5        92          75        1.99  \n",
       "6        44         100       13.80  \n",
       "7        72          40        6.91  \n",
       "8        52          40        1.01  \n",
       "9        82           0        3.44  "
      ]
     },
     "execution_count": 21,
     "metadata": {},
     "output_type": "execute_result"
    }
   ],
   "source": [
    "city_data_df = city_data_df[new_column_order]\n",
    "city_data_df.head(10)"
   ]
  },
  {
   "cell_type": "code",
   "execution_count": 22,
   "id": "52b29d3a",
   "metadata": {},
   "outputs": [],
   "source": [
    "# Create the output file (CSV).\n",
    "output_data_file = \"weather_data/cities.csv\"\n",
    "# Export the City_Data into a CSV.\n",
    "city_data_df.to_csv(output_data_file, index_label=\"City_ID\")"
   ]
  },
  {
   "cell_type": "code",
   "execution_count": 23,
   "id": "21bf6a7f",
   "metadata": {},
   "outputs": [],
   "source": [
    "# Extract relevant fields from the DataFrame for plotting.\n",
    "lats = city_data_df[\"Lat\"]\n",
    "max_temps = city_data_df[\"Max Temp\"]\n",
    "humidity = city_data_df[\"Humidity\"]\n",
    "cloudiness = city_data_df[\"Cloudiness\"]\n",
    "wind_speed = city_data_df[\"Wind Speed\"]"
   ]
  },
  {
   "cell_type": "code",
   "execution_count": 24,
   "id": "bfebd6b1",
   "metadata": {},
   "outputs": [
    {
     "data": {
      "image/png": "[encoded data removed]",
      "text/plain": [
       "<Figure size 432x288 with 1 Axes>"
      ]
     },
     "metadata": {
      "needs_background": "light"
     },
     "output_type": "display_data"
    }
   ],
   "source": [
    "# Import time module\n",
    "import time\n",
    "\n",
    "# Build the scatter plot for latitude vs. max temperature.\n",
    "plt.scatter(lats,\n",
    "            max_temps,\n",
    "            edgecolor=\"black\", linewidths=1, marker=\"o\",\n",
    "            alpha=0.8, label=\"Cities\")\n",
    "\n",
    "# Incorporate the other graph properties.\n",
    "plt.title(f\"City Latitude vs. Max Temperature \"+ time.strftime(\"%x\"))\n",
    "plt.ylabel(\"Max Temperature (F)\")\n",
    "plt.xlabel(\"Latitude\")\n",
    "plt.grid(True)\n",
    "\n",
    "# Save the figure.\n",
    "plt.savefig(\"weather_data/Fig1.png\")\n",
    "\n",
    "# Show plot.\n",
    "plt.show()"
   ]
  },
  {
   "cell_type": "code",
   "execution_count": 25,
   "id": "0f22c5e7",
   "metadata": {},
   "outputs": [
    {
     "data": {
      "image/png": "[encoded data removed]",
      "text/plain": [
       "<Figure size 432x288 with 1 Axes>"
      ]
     },
     "metadata": {
      "needs_background": "light"
     },
     "output_type": "display_data"
    }
   ],
   "source": [
    "# Build the scatter plots for latitude vs. humidity.\n",
    "plt.scatter(lats,\n",
    "            humidity,\n",
    "            edgecolor=\"black\", linewidths=1, marker=\"o\",\n",
    "            alpha=0.8, label=\"Cities\")\n",
    "\n",
    "# Incorporate the other graph properties.\n",
    "plt.title(f\"City Latitude vs. Humidity \"+ time.strftime(\"%x\"))\n",
    "plt.ylabel(\"Humidity (%)\")\n",
    "plt.xlabel(\"Latitude\")\n",
    "plt.grid(True)\n",
    "# Save the figure.\n",
    "plt.savefig(\"weather_data/Fig2.png\")\n",
    "# Show plot.\n",
    "plt.show()"
   ]
  },
  {
   "cell_type": "code",
   "execution_count": 26,
   "id": "477a1bdf",
   "metadata": {},
   "outputs": [
    {
     "data": {
      "image/png": "[encoded data removed]",
      "text/plain": [
       "<Figure size 432x288 with 1 Axes>"
      ]
     },
     "metadata": {
      "needs_background": "light"
     },
     "output_type": "display_data"
    }
   ],
   "source": [
    "# Build the scatter plots for latitude vs. cloudiness.\n",
    "plt.scatter(lats,\n",
    "            cloudiness,\n",
    "            edgecolor=\"black\", linewidths=1, marker=\"o\",\n",
    "            alpha=0.8, label=\"Cities\")\n",
    "\n",
    "# Incorporate the other graph properties.\n",
    "plt.title(f\"City Latitude vs. Cloudiness (%) \"+ time.strftime(\"%x\"))\n",
    "plt.ylabel(\"Cloudiness (%)\")\n",
    "plt.xlabel(\"Latitude\")\n",
    "plt.grid(True)\n",
    "# Save the figure.\n",
    "plt.savefig(\"weather_data/Fig3.png\")\n",
    "# Show plot.\n",
    "plt.show()"
   ]
  },
  {
   "cell_type": "code",
   "execution_count": 27,
   "id": "8204f1c5",
   "metadata": {},
   "outputs": [
    {
     "data": {
      "image/png": "[encoded data removed]",
      "text/plain": [
       "<Figure size 432x288 with 1 Axes>"
      ]
     },
     "metadata": {
      "needs_background": "light"
     },
     "output_type": "display_data"
    }
   ],
   "source": [
    "# Build the scatter plots for latitude vs. wind speed.\n",
    "plt.scatter(lats,\n",
    "            wind_speed,\n",
    "            edgecolor=\"black\", linewidths=1, marker=\"o\",\n",
    "            alpha=0.8, label=\"Cities\")\n",
    "\n",
    "# Incorporate the other graph properties.\n",
    "plt.title(f\"City Latitude vs. Wind Speed \"+ time.strftime(\"%x\"))\n",
    "plt.ylabel(\"Wind Speed (mph)\")\n",
    "plt.xlabel(\"Latitude\")\n",
    "plt.grid(True)\n",
    "# Save the figure.\n",
    "plt.savefig(\"weather_data/Fig4.png\")\n",
    "# Show plot.\n",
    "plt.show()"
   ]
  },
  {
   "cell_type": "code",
   "execution_count": null,
   "id": "1aed9134",
   "metadata": {},
   "outputs": [],
   "source": []
  }
 ],
 "metadata": {
  "kernelspec": {
   "display_name": "PythonData",
   "language": "python",
   "name": "pythondata"
  },
  "language_info": {
   "codemirror_mode": {
    "name": "ipython",
    "version": 3
   },
   "file_extension": ".py",
   "mimetype": "text/x-python",
   "name": "python",
   "nbconvert_exporter": "python",
   "pygments_lexer": "ipython3",
   "version": "3.9.7"
  }
 },
 "nbformat": 4,
 "nbformat_minor": 5
}
